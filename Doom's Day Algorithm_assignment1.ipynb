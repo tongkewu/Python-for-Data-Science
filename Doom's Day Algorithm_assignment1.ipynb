{
 "cells": [
  {
   "cell_type": "markdown",
   "metadata": {},
   "source": [
    "## Part 1: The Doomsday Algorithm\n",
    "\n",
    "The Doomsday algorithm, devised by mathematician J. H. Conway, computes the day of the week any given date fell on. The algorithm is designed to be simple enough to memorize and use for mental calculation.\n",
    "\n",
    "__Example.__ With the algorithm, we can compute that July 4, 1776 (the day the United States declared independence from Great Britain) was a Thursday.\n",
    "\n",
    "The algorithm is based on the fact that for any year, several dates always fall on the same day of the week, called the <em style=\"color:#F00\">doomsday</em> for the year. These dates include 4/4, 6/6, 8/8, 10/10, and 12/12.\n",
    "\n",
    "__Example.__ The doomsday for 2016 is Monday, so in 2016 the dates above all fell on Mondays. The doomsday for 2017 is Tuesday, so in 2017 the dates above will all fall on Tuesdays.\n",
    "\n",
    "The doomsday algorithm has three major steps:\n",
    "\n",
    "1. Compute the anchor day for the target century.\n",
    "2. Compute the doomsday for the target year based on the anchor day.\n",
    "3. Determine the day of week for the target date by counting the number of days to the nearest doomsday.\n",
    "\n",
    "Each step is explained in detail below."
   ]
  },
  {
   "cell_type": "markdown",
   "metadata": {},
   "source": [
    "### The Anchor Day\n",
    "\n",
    "The doomsday for the first year in a century is called the <em style=\"color:#F00\">anchor day</em> for that century. The anchor day is needed to compute the doomsday for any other year in that century. The anchor day for a century $c$ can be computed with the formula:\n",
    "$$\n",
    "a = \\bigl( 5 (c \\bmod 4) + 2 \\bigr) \\bmod 7\n",
    "$$\n",
    "The result $a$ corresponds to a day of the week, starting with $0$ for Sunday and ending with $6$ for Saturday.\n",
    "\n",
    "__Note.__ The modulo operation $(x \\bmod y)$ finds the remainder after dividing $x$ by $y$. For instance, $12 \\bmod 3 = 0$ since the remainder after dividing $12$ by $3$ is $0$. Similarly, $11 \\bmod 7 = 4$, since the remainder after dividing $11$ by $7$ is $4$.\n",
    "\n",
    "__Example.__ Suppose the target year is 1954, so the century is $c = 19$. Plugging this into the formula gives\n",
    "$$a = \\bigl( 5 (19 \\bmod 4) + 2 \\bigr) \\bmod 7 = \\bigl( 5(3) + 2 \\bigr) \\bmod 7 = 3.$$\n",
    "In other words, the anchor day for 1900-1999 is Wednesday, which is also the doomsday for 1900.\n",
    "\n",
    "__Exercise 1.1.__ Write a function that accepts a year as input and computes the anchor day for that year's century. The modulo operator `%` and functions in the `math` module may be useful. Document your function with a docstring and test your function for a few different years.  Do this in a new cell below this one."
   ]
  },
  {
   "cell_type": "code",
   "execution_count": 1,
   "metadata": {
    "collapsed": true
   },
   "outputs": [],
   "source": [
    "import math\n",
    "def anchorDay(year):\n",
    "    \"\"\"Return the anchor day for the year's century.\n",
    "    \n",
    "    Returns:\n",
    "    ad: take values form integers 0 up to 6 corresponding to Sunday up to Saturday\n",
    "    \"\"\"\n",
    "    \n",
    "    y = int(str(year)[:2])\n",
    "    ad = (5 * (y % 4) + 2) % 7\n",
    "    return ad"
   ]
  },
  {
   "cell_type": "markdown",
   "metadata": {},
   "source": [
    "### The Doomsday\n",
    "\n",
    "Once the anchor day is known, let $y$ be the last two digits of the target year. Then the doomsday for the target year can be computed with the formula:\n",
    "$$d = \\left(y + \\left\\lfloor\\frac{y}{4}\\right\\rfloor + a\\right) \\bmod 7$$\n",
    "The result $d$ corresponds to a day of the week.\n",
    "\n",
    "__Note.__ The floor operation $\\lfloor x \\rfloor$ rounds $x$ down to the nearest integer. For instance, $\\lfloor 3.1 \\rfloor = 3$ and $\\lfloor 3.8 \\rfloor = 3$.\n",
    "\n",
    "__Example.__ Again suppose the target year is 1954. Then the anchor day is $a = 3$, and $y = 54$, so the formula gives\n",
    "$$\n",
    "d = \\left(54 + \\left\\lfloor\\frac{54}{4}\\right\\rfloor + 3\\right) \\bmod 7 = (54 + 13 + 3) \\bmod 7 = 0.\n",
    "$$\n",
    "Thus the doomsday for 1954 is Sunday.\n",
    "\n",
    "__Exercise 1.2.__ Write a function that accepts a year as input and computes the doomsday for that year. Your function may need to call the function you wrote in exercise 1.1. Make sure to document and test your function."
   ]
  },
  {
   "cell_type": "code",
   "execution_count": 2,
   "metadata": {
    "collapsed": true
   },
   "outputs": [],
   "source": [
    "def doomsDay(year):\n",
    "    \"\"\"Return doomsday of the given year.\n",
    "    \n",
    "    Return:\n",
    "    dd: take values from integers 0 up to 6 corresponding to Sunday up to Saturday\n",
    "    \"\"\"\n",
    "\n",
    "    y = int(str(year)[-2:])\n",
    "    dd = (y + math.floor(y)/4 + anchorDay(year)) % 7\n",
    "    return int(dd)"
   ]
  },
  {
   "cell_type": "markdown",
   "metadata": {},
   "source": [
    "### The Day of Week\n",
    "\n",
    "The final step in the Doomsday algorithm is to count the number of days between the target date and a nearby doomsday, modulo 7. This gives the day of the week.\n",
    "\n",
    "Every month has at least one doomsday:\n",
    "* (regular years) 1/10, 2/28\n",
    "* (leap years) 1/11, 2/29\n",
    "* 3/21, 4/4, 5/9, 6/6, 7/11, 8/8, 9/5, 10/10, 11/7, 12/12\n",
    "\n",
    "__Example.__ Suppose we want to find the day of the week for 7/21/1954. The doomsday for 1954 is Sunday, and a nearby doomsday is 7/11. There are 10 days in July between 7/11 and 7/21. Since $10 \\bmod 7 = 3$, the date 7/21/1954 falls 3 days after a Sunday, on a Wednesday.\n",
    "\n",
    "__Exercise 1.3.__ Write a function to determine the day of the week for a given day, month, and year. Be careful of leap years! Your function should return a string such as \"Thursday\" rather than a number. As usual, document and test your code."
   ]
  },
  {
   "cell_type": "code",
   "execution_count": 3,
   "metadata": {
    "collapsed": true
   },
   "outputs": [],
   "source": [
    "def weekDay(month, day, year):\n",
    "    \"\"\"Return the day of week for a given date.\"\"\"\n",
    "    dds = {1:10, 2:28, 3:21, 4:4, 5:9, 6:6, 7:11, 8:8, 9:5, 10:10, 11:7, 12:12}\n",
    "    wds = {0:'Sunday', 1:'Monday', 2:'Tuesday', 3:'Wednesday', 4:'Thursday', 5:'Friday', 6:'Saturday'}\n",
    "    if year % 4 == 0:\n",
    "        dds[1] += 1\n",
    "        dds[2] += 1\n",
    "    if (day - dds[month] + doomsDay(year)) % 7 >= 0:\n",
    "        dow = (day - dds[month] + doomsDay(year))% 7\n",
    "    else:\n",
    "        dow = 7 - abs(day - dds[month] + doomsDay(year)) % 7\n",
    "    return wds[dow]"
   ]
  },
  {
   "cell_type": "markdown",
   "metadata": {},
   "source": [
    "__Exercise 1.4.__ How many times did Friday the 13th occur in the years 1900-1999? Does this number seem to be similar to other centuries?"
   ]
  },
  {
   "cell_type": "code",
   "execution_count": 4,
   "metadata": {
    "collapsed": false
   },
   "outputs": [],
   "source": [
    "def dayoccurance(weekday, day, year_start, year_end):\n",
    "    \"\"\"Return the number of occurance of a given weekday with the same day. \"\"\"\n",
    "    t = 0\n",
    "    for year in xrange(year_start, year_end + 1):\n",
    "        for month in xrange(1,13):\n",
    "            if weekDay(month, day, year) == weekday:\n",
    "                t += 1\n",
    "    return t"
   ]
  },
  {
   "cell_type": "code",
   "execution_count": 5,
   "metadata": {
    "collapsed": false
   },
   "outputs": [
    {
     "name": "stdout",
     "output_type": "stream",
     "text": [
      "173\n",
      "172\n",
      "173\n"
     ]
    }
   ],
   "source": [
    "print dayoccurance('Friday', 13, 1900, 1999)\n",
    "print dayoccurance('Friday', 13, 1800, 1899)\n",
    "print dayoccurance('Friday', 13, 1700, 1799)"
   ]
  },
  {
   "cell_type": "markdown",
   "metadata": {},
   "source": [
    "There are 173 times that Friday the 13th occured. And this number seems to be similar to those (172 in 18th century and 173 in 17th century) of other centuries."
   ]
  },
  {
   "cell_type": "markdown",
   "metadata": {},
   "source": [
    "__Exercise 1.5.__ How many times did Friday the 13th occur between the year 2000 and today?"
   ]
  },
  {
   "cell_type": "code",
   "execution_count": 6,
   "metadata": {
    "collapsed": false
   },
   "outputs": [
    {
     "data": {
      "text/plain": [
       "32"
      ]
     },
     "execution_count": 6,
     "metadata": {},
     "output_type": "execute_result"
    }
   ],
   "source": [
    "t1 = dayoccurance('Friday', 13, 2000, 2017)\n",
    "t2 = weekDay(1, 13, 2017) == 'Friday'\n",
    "t1 + t2"
   ]
  },
  {
   "cell_type": "markdown",
   "metadata": {},
   "source": [
    "There are 32 times that Friday the 13th occur between the year 2000 and today(1/21/2017)."
   ]
  },
  {
   "cell_type": "markdown",
   "metadata": {},
   "source": [
    "## Part 2: 1978 Birthdays\n",
    "\n",
    "__Exercise 2.1.__ The file `birthdays.txt` contains the number of births in the United States for each day in 1978. Inspect the file to determine the format. Note that columns are separated by the tab character, which can be entered in Python as `\\t`. Write a function that uses iterators and list comprehensions with the string methods `split()` and `strip()` to  convert each line of data to the list format\n",
    "\n",
    "```Python\n",
    "[month, day, year, count]\n",
    "```\n",
    "The elements of this list should be integers, not strings. The function `read_birthdays` provided below will help you load the file."
   ]
  },
  {
   "cell_type": "code",
   "execution_count": 7,
   "metadata": {
    "collapsed": true
   },
   "outputs": [],
   "source": [
    "def read_birthdays(file_path):\n",
    "    \"\"\"Read the contents of the birthdays file into a string.\n",
    "    \n",
    "    Arguments:\n",
    "        file_path (string): The path to the birthdays file.\n",
    "        \n",
    "    Returns:\n",
    "        string: The contents of the birthdays file.\n",
    "    \"\"\"\n",
    "    with open(file_path) as file:\n",
    "        return file.read()"
   ]
  },
  {
   "cell_type": "code",
   "execution_count": 27,
   "metadata": {
    "collapsed": false
   },
   "outputs": [
    {
     "name": "stdout",
     "output_type": "stream",
     "text": [
      "[[1, 1, 1978, 7701], [1, 2, 1978, 7527], [1, 3, 1978, 8825], [1, 4, 1978, 8859], [1, 5, 1978, 9043]]\n"
     ]
    }
   ],
   "source": [
    "raw = read_birthdays('/Users/Rachel/Desktop/STA 141B/hw1/birthdays.txt')\n",
    "start = raw.find('1/1/78')\n",
    "end = raw.find('8028') + 4\n",
    "bds = raw[start:end]\n",
    "bds = bds.split('\\n')\n",
    "bds = [line.replace('78', '1978') for line in bds]\n",
    "bds = [line.replace('\\t', '/') for line in bds]\n",
    "bds = [line.split('/') for line in bds]\n",
    "birthdays = map(lambda line: [int(x) for x in line], bds)\n",
    "print birthdays[:5]"
   ]
  },
  {
   "cell_type": "markdown",
   "metadata": {},
   "source": [
    "__Exercise 2.2.__ Which month had the most births in 1978? Which day of the week had the most births? Which day of the week had the fewest? What conclusions can you draw? You may find the `Counter` class in the `collections` module useful."
   ]
  },
  {
   "cell_type": "markdown",
   "metadata": {},
   "source": [
    "Create a new list of birthdays called birthdays_new including the day of week."
   ]
  },
  {
   "cell_type": "code",
   "execution_count": 9,
   "metadata": {
    "collapsed": false
   },
   "outputs": [],
   "source": [
    "birthdays_new = birthdays\n",
    "for line in birthdays_new:\n",
    "    line.append(weekDay(line[0], line[1], line[2]))"
   ]
  },
  {
   "cell_type": "code",
   "execution_count": 30,
   "metadata": {
    "collapsed": false
   },
   "outputs": [],
   "source": [
    "# better solution\n",
    "test = birthdays\n",
    "test_new = [line + [weekDay(line[0], line[1], line[2])] for line in test]\n",
    "# not map(lambda line: line.append(weekDay(line[0], line[1], line[2])), test)"
   ]
  },
  {
   "cell_type": "markdown",
   "metadata": {},
   "source": [
    "Write a function that can return stats of birth, i.e births of every month, births of every day of week."
   ]
  },
  {
   "cell_type": "code",
   "execution_count": 10,
   "metadata": {
    "collapsed": false
   },
   "outputs": [],
   "source": [
    "def bds_stats(stats_code):\n",
    "    \"\"\"Return a summary of births.\n",
    "    \n",
    "    Argument:\n",
    "    stats_code(int): 0, 1, 4 reperesent 'month', 'day', 'day of week' respectively\n",
    "    \"\"\"\n",
    "    bds_f = birthdays_new[:-1]\n",
    "    bds_b = birthdays_new[1:]\n",
    "    stats = {bds_f[0][stats_code]:bds_f[0][3]}\n",
    "    for i,j in zip(bds_f, bds_b):\n",
    "        if i[stats_code] == j[stats_code]:\n",
    "            stats[i[stats_code]] += j[3]\n",
    "        else:\n",
    "            if j[stats_code] in stats:        # modified on 1/23/2017\n",
    "                stats[j[stats_code]] += j[3]  # modified on 1/23/2017\n",
    "            else:                             # modified on 1/23/2017\n",
    "                stats[j[stats_code]] = j[3]   # modified on 1/23/2017\n",
    "    return stats"
   ]
  },
  {
   "cell_type": "markdown",
   "metadata": {},
   "source": [
    "May has the most births in 1978."
   ]
  },
  {
   "cell_type": "code",
   "execution_count": 11,
   "metadata": {
    "collapsed": false,
    "scrolled": true
   },
   "outputs": [
    {
     "name": "stdout",
     "output_type": "stream",
     "text": [
      "{1: 270695, 2: 629875, 3: 656584, 4: 1156577, 5: 1694812, 6: 270756, 7: 294701, 8: 1113795, 9: 293891, 10: 1500555, 11: 464671, 12: 474927}\n",
      "5\n"
     ]
    }
   ],
   "source": [
    "stats_m = bds_stats(0)\n",
    "print stats_m\n",
    "print max(stats_m, key = stats_m.get)"
   ]
  },
  {
   "cell_type": "markdown",
   "metadata": {},
   "source": [
    "Saturday has the most births and Thursday has the fewest births in 1978. "
   ]
  },
  {
   "cell_type": "code",
   "execution_count": 12,
   "metadata": {
    "collapsed": false,
    "scrolled": true
   },
   "outputs": [
    {
     "name": "stdout",
     "output_type": "stream",
     "text": [
      "{'Monday': 1389309, 'Tuesday': 1526458, 'Friday': 500541, 'Wednesday': 493897, 'Thursday': 493149, 'Sunday': 2083400, 'Saturday': 2335085}\n",
      "Saturday\n",
      "Thursday\n"
     ]
    }
   ],
   "source": [
    "stats_dow = bds_stats(4)\n",
    "print stats_dow\n",
    "print max(stats_dow, key = stats_dow.get)\n",
    "print min(stats_dow, key = stats_dow.get)"
   ]
  },
  {
   "cell_type": "markdown",
   "metadata": {},
   "source": [
    "__Exercise 2.3.__ What would be an effective way to present the information in exercise 2.2? You don't need to write any code for this exercise, just discuss what you would do."
   ]
  },
  {
   "cell_type": "markdown",
   "metadata": {},
   "source": [
    "A histogram or barplot of stats of births would be an informative presentation."
   ]
  }
 ],
 "metadata": {
  "anaconda-cloud": {},
  "kernelspec": {
   "display_name": "Python [default]",
   "language": "python",
   "name": "python2"
  },
  "language_info": {
   "codemirror_mode": {
    "name": "ipython",
    "version": 2
   },
   "file_extension": ".py",
   "mimetype": "text/x-python",
   "name": "python",
   "nbconvert_exporter": "python",
   "pygments_lexer": "ipython2",
   "version": "2.7.12"
  }
 },
 "nbformat": 4,
 "nbformat_minor": 2
}
